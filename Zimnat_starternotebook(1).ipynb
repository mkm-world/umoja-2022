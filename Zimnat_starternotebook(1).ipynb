{
  "nbformat": 4,
  "nbformat_minor": 0,
  "metadata": {
    "colab": {
      "name": "Zimnat_starternotebook.ipynb",
      "provenance": [],
      "collapsed_sections": []
    },
    "kernelspec": {
      "name": "python3",
      "display_name": "Python 3"
    },
    "language_info": {
      "name": "python"
    }
  },
  "cells": [
    {
      "cell_type": "markdown",
      "source": [
        "<a name=\"Libraries\"></a>\n",
        "## 1. Importing libraries\n"
      ],
      "metadata": {
        "id": "I8Kdz7a25j4P"
      }
    },
    {
      "cell_type": "code",
      "source": [
        "!pip install category_encoders"
      ],
      "metadata": {
        "colab": {
          "base_uri": "https://localhost:8080/"
        },
        "id": "FExOVfUEfZ_a",
        "outputId": "952c06ab-1887-4e0d-f9da-8f59bac85eec"
      },
      "execution_count": null,
      "outputs": [
        {
          "output_type": "stream",
          "name": "stdout",
          "text": [
            "Requirement already satisfied: category_encoders in /usr/local/lib/python3.7/dist-packages (2.4.0)\n",
            "Requirement already satisfied: pandas>=0.21.1 in /usr/local/lib/python3.7/dist-packages (from category_encoders) (1.3.5)\n",
            "Requirement already satisfied: numpy>=1.14.0 in /usr/local/lib/python3.7/dist-packages (from category_encoders) (1.21.5)\n",
            "Requirement already satisfied: scipy>=1.0.0 in /usr/local/lib/python3.7/dist-packages (from category_encoders) (1.4.1)\n",
            "Requirement already satisfied: statsmodels>=0.9.0 in /usr/local/lib/python3.7/dist-packages (from category_encoders) (0.10.2)\n",
            "Requirement already satisfied: patsy>=0.5.1 in /usr/local/lib/python3.7/dist-packages (from category_encoders) (0.5.2)\n",
            "Requirement already satisfied: scikit-learn>=0.20.0 in /usr/local/lib/python3.7/dist-packages (from category_encoders) (1.0.2)\n",
            "Requirement already satisfied: python-dateutil>=2.7.3 in /usr/local/lib/python3.7/dist-packages (from pandas>=0.21.1->category_encoders) (2.8.2)\n",
            "Requirement already satisfied: pytz>=2017.3 in /usr/local/lib/python3.7/dist-packages (from pandas>=0.21.1->category_encoders) (2018.9)\n",
            "Requirement already satisfied: six in /usr/local/lib/python3.7/dist-packages (from patsy>=0.5.1->category_encoders) (1.15.0)\n",
            "Requirement already satisfied: threadpoolctl>=2.0.0 in /usr/local/lib/python3.7/dist-packages (from scikit-learn>=0.20.0->category_encoders) (3.1.0)\n",
            "Requirement already satisfied: joblib>=0.11 in /usr/local/lib/python3.7/dist-packages (from scikit-learn>=0.20.0->category_encoders) (1.1.0)\n"
          ]
        }
      ]
    },
    {
      "cell_type": "code",
      "execution_count": null,
      "metadata": {
        "id": "GJvGrR3AXhny"
      },
      "outputs": [],
      "source": [
        "# Import libraries\n",
        "import pandas as pd\n",
        "import numpy as np\n",
        "import matplotlib.pyplot as plt\n",
        "import seaborn as sns\n",
        "from sklearn.metrics import mean_absolute_error\n",
        "from sklearn.model_selection import train_test_split\n",
        "from sklearn.preprocessing import LabelEncoder\n",
        "from sklearn.linear_model import LinearRegression\n",
        "pd.options.display.float_format = '{:.5f}'.format\n",
        "\n",
        "%matplotlib inline\n",
        "import warnings\n",
        "warnings.filterwarnings('ignore')"
      ]
    },
    {
      "cell_type": "code",
      "source": [
        "from google.colab import drive\n",
        "drive.mount('/content/drive')"
      ],
      "metadata": {
        "colab": {
          "base_uri": "https://localhost:8080/"
        },
        "id": "WMvRXljpwlL3",
        "outputId": "a25ebe7b-e932-4680-dc2f-f1c050d54146"
      },
      "execution_count": null,
      "outputs": [
        {
          "output_type": "stream",
          "name": "stdout",
          "text": [
            "Drive already mounted at /content/drive; to attempt to forcibly remount, call drive.mount(\"/content/drive\", force_remount=True).\n"
          ]
        }
      ]
    },
    {
      "cell_type": "markdown",
      "source": [
        "<a name=\"Data\"></a>\n",
        "## 2. Loading data"
      ],
      "metadata": {
        "id": "ro-KRpqn5pbB"
      }
    },
    {
      "cell_type": "code",
      "source": [
        "# Load files\n",
        "train = pd.read_csv('/content/drive/MyDrive/machine learning competitions/umojahack-africa-2022-intermediate-challenge/train.csv')\n",
        "policies = pd.read_csv('/content/drive/MyDrive/machine learning competitions/umojahack-africa-2022-intermediate-challenge/policies.csv')\n",
        "test = pd.read_csv('/content/drive/MyDrive/machine learning competitions/umojahack-africa-2022-intermediate-challenge/test.csv')\n",
        "samplesubmission = pd.read_csv('/content/drive/MyDrive/machine learning competitions/umojahack-africa-2022-intermediate-challenge/SampleSubmission.csv')\n",
        "\n",
        "# Preview train dataset\n",
        "train.head()"
      ],
      "metadata": {
        "colab": {
          "base_uri": "https://localhost:8080/",
          "height": 268
        },
        "id": "V54N2h-CXzmI",
        "outputId": "efad1e1a-c2b6-4768-e602-edb41aa429c7"
      },
      "execution_count": null,
      "outputs": [
        {
          "output_type": "execute_result",
          "data": {
            "text/plain": [
              "          claim_id policy_number  claim_number  sum_insured    product  \\\n",
              "0  ID_JZ7QWRHH57RO  pol000009680  claim0011359 300000.00000  prod00027   \n",
              "1  ID_KQ5TJMVLJ4EP  pol000006869  claim0005272  16000.00000  prod00005   \n",
              "2  ID_NYHI7WJGGIAE  pol000006135  claim0004147   3000.00000  prod00029   \n",
              "3  ID_ROMMDCXYUXN5  pol000008991  claim0009962   6000.00000  prod00005   \n",
              "4  ID_2OTD9NX8L73D  pol000007768  claim0007346  26850.00000  prod00015   \n",
              "\n",
              "     agent class_of_business risk_type   loss_date client_type  \\\n",
              "0  ag00068          cob00031   rt00006  2021-05-13      ct0003   \n",
              "1  ag00226          cob00010   rt00032  2018-05-13      ct0003   \n",
              "2  ag00037          cob00010   rt00026  2018-08-18      ct0003   \n",
              "3  ag00037          cob00009   rt00032  2018-12-20      ct0003   \n",
              "4  ag00226          cob00034   rt00023  2018-11-07      ct0001   \n",
              "\n",
              "  renewal_frequency primary_cause secondary_cause   branch      target  \n",
              "0            rf0001        pc0007         sc00022  br00006 82150.00000  \n",
              "1            rf0001        pc0007         sc00023  br00002  3780.24000  \n",
              "2            rf0001        pc0007         sc00024  br00002  2196.50000  \n",
              "3            rf0001        pc0007         sc00021  br00001   105.67000  \n",
              "4            rf0001        pc0007         sc00021  br00001  1605.64000  "
            ],
            "text/html": [
              "\n",
              "  <div id=\"df-ea65537a-6b2d-455c-ab0e-e06cf043d053\">\n",
              "    <div class=\"colab-df-container\">\n",
              "      <div>\n",
              "<style scoped>\n",
              "    .dataframe tbody tr th:only-of-type {\n",
              "        vertical-align: middle;\n",
              "    }\n",
              "\n",
              "    .dataframe tbody tr th {\n",
              "        vertical-align: top;\n",
              "    }\n",
              "\n",
              "    .dataframe thead th {\n",
              "        text-align: right;\n",
              "    }\n",
              "</style>\n",
              "<table border=\"1\" class=\"dataframe\">\n",
              "  <thead>\n",
              "    <tr style=\"text-align: right;\">\n",
              "      <th></th>\n",
              "      <th>claim_id</th>\n",
              "      <th>policy_number</th>\n",
              "      <th>claim_number</th>\n",
              "      <th>sum_insured</th>\n",
              "      <th>product</th>\n",
              "      <th>agent</th>\n",
              "      <th>class_of_business</th>\n",
              "      <th>risk_type</th>\n",
              "      <th>loss_date</th>\n",
              "      <th>client_type</th>\n",
              "      <th>renewal_frequency</th>\n",
              "      <th>primary_cause</th>\n",
              "      <th>secondary_cause</th>\n",
              "      <th>branch</th>\n",
              "      <th>target</th>\n",
              "    </tr>\n",
              "  </thead>\n",
              "  <tbody>\n",
              "    <tr>\n",
              "      <th>0</th>\n",
              "      <td>ID_JZ7QWRHH57RO</td>\n",
              "      <td>pol000009680</td>\n",
              "      <td>claim0011359</td>\n",
              "      <td>300000.00000</td>\n",
              "      <td>prod00027</td>\n",
              "      <td>ag00068</td>\n",
              "      <td>cob00031</td>\n",
              "      <td>rt00006</td>\n",
              "      <td>2021-05-13</td>\n",
              "      <td>ct0003</td>\n",
              "      <td>rf0001</td>\n",
              "      <td>pc0007</td>\n",
              "      <td>sc00022</td>\n",
              "      <td>br00006</td>\n",
              "      <td>82150.00000</td>\n",
              "    </tr>\n",
              "    <tr>\n",
              "      <th>1</th>\n",
              "      <td>ID_KQ5TJMVLJ4EP</td>\n",
              "      <td>pol000006869</td>\n",
              "      <td>claim0005272</td>\n",
              "      <td>16000.00000</td>\n",
              "      <td>prod00005</td>\n",
              "      <td>ag00226</td>\n",
              "      <td>cob00010</td>\n",
              "      <td>rt00032</td>\n",
              "      <td>2018-05-13</td>\n",
              "      <td>ct0003</td>\n",
              "      <td>rf0001</td>\n",
              "      <td>pc0007</td>\n",
              "      <td>sc00023</td>\n",
              "      <td>br00002</td>\n",
              "      <td>3780.24000</td>\n",
              "    </tr>\n",
              "    <tr>\n",
              "      <th>2</th>\n",
              "      <td>ID_NYHI7WJGGIAE</td>\n",
              "      <td>pol000006135</td>\n",
              "      <td>claim0004147</td>\n",
              "      <td>3000.00000</td>\n",
              "      <td>prod00029</td>\n",
              "      <td>ag00037</td>\n",
              "      <td>cob00010</td>\n",
              "      <td>rt00026</td>\n",
              "      <td>2018-08-18</td>\n",
              "      <td>ct0003</td>\n",
              "      <td>rf0001</td>\n",
              "      <td>pc0007</td>\n",
              "      <td>sc00024</td>\n",
              "      <td>br00002</td>\n",
              "      <td>2196.50000</td>\n",
              "    </tr>\n",
              "    <tr>\n",
              "      <th>3</th>\n",
              "      <td>ID_ROMMDCXYUXN5</td>\n",
              "      <td>pol000008991</td>\n",
              "      <td>claim0009962</td>\n",
              "      <td>6000.00000</td>\n",
              "      <td>prod00005</td>\n",
              "      <td>ag00037</td>\n",
              "      <td>cob00009</td>\n",
              "      <td>rt00032</td>\n",
              "      <td>2018-12-20</td>\n",
              "      <td>ct0003</td>\n",
              "      <td>rf0001</td>\n",
              "      <td>pc0007</td>\n",
              "      <td>sc00021</td>\n",
              "      <td>br00001</td>\n",
              "      <td>105.67000</td>\n",
              "    </tr>\n",
              "    <tr>\n",
              "      <th>4</th>\n",
              "      <td>ID_2OTD9NX8L73D</td>\n",
              "      <td>pol000007768</td>\n",
              "      <td>claim0007346</td>\n",
              "      <td>26850.00000</td>\n",
              "      <td>prod00015</td>\n",
              "      <td>ag00226</td>\n",
              "      <td>cob00034</td>\n",
              "      <td>rt00023</td>\n",
              "      <td>2018-11-07</td>\n",
              "      <td>ct0001</td>\n",
              "      <td>rf0001</td>\n",
              "      <td>pc0007</td>\n",
              "      <td>sc00021</td>\n",
              "      <td>br00001</td>\n",
              "      <td>1605.64000</td>\n",
              "    </tr>\n",
              "  </tbody>\n",
              "</table>\n",
              "</div>\n",
              "      <button class=\"colab-df-convert\" onclick=\"convertToInteractive('df-ea65537a-6b2d-455c-ab0e-e06cf043d053')\"\n",
              "              title=\"Convert this dataframe to an interactive table.\"\n",
              "              style=\"display:none;\">\n",
              "        \n",
              "  <svg xmlns=\"http://www.w3.org/2000/svg\" height=\"24px\"viewBox=\"0 0 24 24\"\n",
              "       width=\"24px\">\n",
              "    <path d=\"M0 0h24v24H0V0z\" fill=\"none\"/>\n",
              "    <path d=\"M18.56 5.44l.94 2.06.94-2.06 2.06-.94-2.06-.94-.94-2.06-.94 2.06-2.06.94zm-11 1L8.5 8.5l.94-2.06 2.06-.94-2.06-.94L8.5 2.5l-.94 2.06-2.06.94zm10 10l.94 2.06.94-2.06 2.06-.94-2.06-.94-.94-2.06-.94 2.06-2.06.94z\"/><path d=\"M17.41 7.96l-1.37-1.37c-.4-.4-.92-.59-1.43-.59-.52 0-1.04.2-1.43.59L10.3 9.45l-7.72 7.72c-.78.78-.78 2.05 0 2.83L4 21.41c.39.39.9.59 1.41.59.51 0 1.02-.2 1.41-.59l7.78-7.78 2.81-2.81c.8-.78.8-2.07 0-2.86zM5.41 20L4 18.59l7.72-7.72 1.47 1.35L5.41 20z\"/>\n",
              "  </svg>\n",
              "      </button>\n",
              "      \n",
              "  <style>\n",
              "    .colab-df-container {\n",
              "      display:flex;\n",
              "      flex-wrap:wrap;\n",
              "      gap: 12px;\n",
              "    }\n",
              "\n",
              "    .colab-df-convert {\n",
              "      background-color: #E8F0FE;\n",
              "      border: none;\n",
              "      border-radius: 50%;\n",
              "      cursor: pointer;\n",
              "      display: none;\n",
              "      fill: #1967D2;\n",
              "      height: 32px;\n",
              "      padding: 0 0 0 0;\n",
              "      width: 32px;\n",
              "    }\n",
              "\n",
              "    .colab-df-convert:hover {\n",
              "      background-color: #E2EBFA;\n",
              "      box-shadow: 0px 1px 2px rgba(60, 64, 67, 0.3), 0px 1px 3px 1px rgba(60, 64, 67, 0.15);\n",
              "      fill: #174EA6;\n",
              "    }\n",
              "\n",
              "    [theme=dark] .colab-df-convert {\n",
              "      background-color: #3B4455;\n",
              "      fill: #D2E3FC;\n",
              "    }\n",
              "\n",
              "    [theme=dark] .colab-df-convert:hover {\n",
              "      background-color: #434B5C;\n",
              "      box-shadow: 0px 1px 3px 1px rgba(0, 0, 0, 0.15);\n",
              "      filter: drop-shadow(0px 1px 2px rgba(0, 0, 0, 0.3));\n",
              "      fill: #FFFFFF;\n",
              "    }\n",
              "  </style>\n",
              "\n",
              "      <script>\n",
              "        const buttonEl =\n",
              "          document.querySelector('#df-ea65537a-6b2d-455c-ab0e-e06cf043d053 button.colab-df-convert');\n",
              "        buttonEl.style.display =\n",
              "          google.colab.kernel.accessAllowed ? 'block' : 'none';\n",
              "\n",
              "        async function convertToInteractive(key) {\n",
              "          const element = document.querySelector('#df-ea65537a-6b2d-455c-ab0e-e06cf043d053');\n",
              "          const dataTable =\n",
              "            await google.colab.kernel.invokeFunction('convertToInteractive',\n",
              "                                                     [key], {});\n",
              "          if (!dataTable) return;\n",
              "\n",
              "          const docLinkHtml = 'Like what you see? Visit the ' +\n",
              "            '<a target=\"_blank\" href=https://colab.research.google.com/notebooks/data_table.ipynb>data table notebook</a>'\n",
              "            + ' to learn more about interactive tables.';\n",
              "          element.innerHTML = '';\n",
              "          dataTable['output_type'] = 'display_data';\n",
              "          await google.colab.output.renderOutput(dataTable, element);\n",
              "          const docLink = document.createElement('div');\n",
              "          docLink.innerHTML = docLinkHtml;\n",
              "          element.appendChild(docLink);\n",
              "        }\n",
              "      </script>\n",
              "    </div>\n",
              "  </div>\n",
              "  "
            ]
          },
          "metadata": {},
          "execution_count": 249
        }
      ]
    },
    {
      "cell_type": "code",
      "source": [
        "train['source']=0\n",
        "test['source']=1\n",
        "all_data=pd.concat([train,test])"
      ],
      "metadata": {
        "id": "LzrxA30IMnLr"
      },
      "execution_count": null,
      "outputs": []
    },
    {
      "cell_type": "code",
      "source": [
        "cat_columns= ['policy_number','product','agent','class_of_business','risk_type','client_type','renewal_frequency', 'primary_cause', 'secondary_cause', 'branch']"
      ],
      "metadata": {
        "id": "GKuAJU49Kkks"
      },
      "execution_count": null,
      "outputs": []
    },
    {
      "cell_type": "code",
      "source": [
        "for cat in cat_columns:\n",
        "  means=train.groupby(cat).mean().target\n",
        "  df=pd.DataFrame({'encoded'+cat:means.values,cat:means.index.values.tolist()})\n",
        "  all_data=pd.merge(all_data,df,how='left', on=[cat])"
      ],
      "metadata": {
        "id": "tpIx-I9jgEUe"
      },
      "execution_count": null,
      "outputs": []
    },
    {
      "cell_type": "code",
      "source": [
        "all_data=pd.get_dummies(all_data,columns=cat_columns)"
      ],
      "metadata": {
        "id": "rVeip38XRA90"
      },
      "execution_count": null,
      "outputs": []
    },
    {
      "cell_type": "markdown",
      "source": [
        "Outliers are those data points which differs significantly from other observations present in given dataset.\n",
        "\n",
        "Suggestions on how to handle outliers:\n",
        " - Transforming the outliers by scaling - log transformation, box-cox transformation ...\n",
        " - Dropping outliers\n",
        " - Imputation by replacing outliers with mean, median ...\n"
      ],
      "metadata": {
        "id": "ERPdXhEx2pjD"
      }
    },
    {
      "cell_type": "markdown",
      "source": [
        "<a name=\"Datatypes\"></a>\n",
        "## 6. Dataset datatypes"
      ],
      "metadata": {
        "id": "mw2PVnGOdThR"
      }
    },
    {
      "cell_type": "code",
      "source": [
        "# Convert datetime variables to datetime objects\n",
        "all_data.loss_date = pd.to_datetime(all_data.loss_date, errors='coerce')"
      ],
      "metadata": {
        "id": "7fhg4-rsdNaW"
      },
      "execution_count": null,
      "outputs": []
    },
    {
      "cell_type": "code",
      "source": [
        "# Extract day, month and year from the loss date column\n",
        "# day\n",
        "all_data['loss_date_day_of_week'] = all_data.loss_date.dt.dayofweek\n",
        "\n",
        "# month\n",
        "all_data['loss_date_month'] = all_data.loss_date.dt.month\n",
        " \n",
        "# year\n",
        "all_data['loss_date_year'] = all_data.loss_date.dt.year"
      ],
      "metadata": {
        "id": "Pdt5924PbXoY"
      },
      "execution_count": null,
      "outputs": []
    },
    {
      "cell_type": "code",
      "source": [
        "all_data.select_dtypes(object)"
      ],
      "metadata": {
        "colab": {
          "base_uri": "https://localhost:8080/",
          "height": 483
        },
        "id": "Y0DJKyXMfTLd",
        "outputId": "00841955-f13d-4dbe-a2ae-f5fc811af6cf"
      },
      "execution_count": null,
      "outputs": [
        {
          "output_type": "execute_result",
          "data": {
            "text/plain": [
              "              claim_id  claim_number\n",
              "0      ID_JZ7QWRHH57RO  claim0011359\n",
              "1      ID_KQ5TJMVLJ4EP  claim0005272\n",
              "2      ID_NYHI7WJGGIAE  claim0004147\n",
              "3      ID_ROMMDCXYUXN5  claim0009962\n",
              "4      ID_2OTD9NX8L73D  claim0007346\n",
              "...                ...           ...\n",
              "13390  ID_F08UFUIVVMR8  claim0004124\n",
              "13391  ID_KODD3CK5SV0X  claim0014092\n",
              "13392  ID_59003DPSZQ16  claim0003914\n",
              "13393  ID_B0C9XF5SIHGO  claim0010854\n",
              "13394  ID_BDKZABZHDSZA  claim0000080\n",
              "\n",
              "[13395 rows x 2 columns]"
            ],
            "text/html": [
              "\n",
              "  <div id=\"df-409c4a56-6ad8-43c2-a5b6-457b74777123\">\n",
              "    <div class=\"colab-df-container\">\n",
              "      <div>\n",
              "<style scoped>\n",
              "    .dataframe tbody tr th:only-of-type {\n",
              "        vertical-align: middle;\n",
              "    }\n",
              "\n",
              "    .dataframe tbody tr th {\n",
              "        vertical-align: top;\n",
              "    }\n",
              "\n",
              "    .dataframe thead th {\n",
              "        text-align: right;\n",
              "    }\n",
              "</style>\n",
              "<table border=\"1\" class=\"dataframe\">\n",
              "  <thead>\n",
              "    <tr style=\"text-align: right;\">\n",
              "      <th></th>\n",
              "      <th>claim_id</th>\n",
              "      <th>claim_number</th>\n",
              "    </tr>\n",
              "  </thead>\n",
              "  <tbody>\n",
              "    <tr>\n",
              "      <th>0</th>\n",
              "      <td>ID_JZ7QWRHH57RO</td>\n",
              "      <td>claim0011359</td>\n",
              "    </tr>\n",
              "    <tr>\n",
              "      <th>1</th>\n",
              "      <td>ID_KQ5TJMVLJ4EP</td>\n",
              "      <td>claim0005272</td>\n",
              "    </tr>\n",
              "    <tr>\n",
              "      <th>2</th>\n",
              "      <td>ID_NYHI7WJGGIAE</td>\n",
              "      <td>claim0004147</td>\n",
              "    </tr>\n",
              "    <tr>\n",
              "      <th>3</th>\n",
              "      <td>ID_ROMMDCXYUXN5</td>\n",
              "      <td>claim0009962</td>\n",
              "    </tr>\n",
              "    <tr>\n",
              "      <th>4</th>\n",
              "      <td>ID_2OTD9NX8L73D</td>\n",
              "      <td>claim0007346</td>\n",
              "    </tr>\n",
              "    <tr>\n",
              "      <th>...</th>\n",
              "      <td>...</td>\n",
              "      <td>...</td>\n",
              "    </tr>\n",
              "    <tr>\n",
              "      <th>13390</th>\n",
              "      <td>ID_F08UFUIVVMR8</td>\n",
              "      <td>claim0004124</td>\n",
              "    </tr>\n",
              "    <tr>\n",
              "      <th>13391</th>\n",
              "      <td>ID_KODD3CK5SV0X</td>\n",
              "      <td>claim0014092</td>\n",
              "    </tr>\n",
              "    <tr>\n",
              "      <th>13392</th>\n",
              "      <td>ID_59003DPSZQ16</td>\n",
              "      <td>claim0003914</td>\n",
              "    </tr>\n",
              "    <tr>\n",
              "      <th>13393</th>\n",
              "      <td>ID_B0C9XF5SIHGO</td>\n",
              "      <td>claim0010854</td>\n",
              "    </tr>\n",
              "    <tr>\n",
              "      <th>13394</th>\n",
              "      <td>ID_BDKZABZHDSZA</td>\n",
              "      <td>claim0000080</td>\n",
              "    </tr>\n",
              "  </tbody>\n",
              "</table>\n",
              "<p>13395 rows × 2 columns</p>\n",
              "</div>\n",
              "      <button class=\"colab-df-convert\" onclick=\"convertToInteractive('df-409c4a56-6ad8-43c2-a5b6-457b74777123')\"\n",
              "              title=\"Convert this dataframe to an interactive table.\"\n",
              "              style=\"display:none;\">\n",
              "        \n",
              "  <svg xmlns=\"http://www.w3.org/2000/svg\" height=\"24px\"viewBox=\"0 0 24 24\"\n",
              "       width=\"24px\">\n",
              "    <path d=\"M0 0h24v24H0V0z\" fill=\"none\"/>\n",
              "    <path d=\"M18.56 5.44l.94 2.06.94-2.06 2.06-.94-2.06-.94-.94-2.06-.94 2.06-2.06.94zm-11 1L8.5 8.5l.94-2.06 2.06-.94-2.06-.94L8.5 2.5l-.94 2.06-2.06.94zm10 10l.94 2.06.94-2.06 2.06-.94-2.06-.94-.94-2.06-.94 2.06-2.06.94z\"/><path d=\"M17.41 7.96l-1.37-1.37c-.4-.4-.92-.59-1.43-.59-.52 0-1.04.2-1.43.59L10.3 9.45l-7.72 7.72c-.78.78-.78 2.05 0 2.83L4 21.41c.39.39.9.59 1.41.59.51 0 1.02-.2 1.41-.59l7.78-7.78 2.81-2.81c.8-.78.8-2.07 0-2.86zM5.41 20L4 18.59l7.72-7.72 1.47 1.35L5.41 20z\"/>\n",
              "  </svg>\n",
              "      </button>\n",
              "      \n",
              "  <style>\n",
              "    .colab-df-container {\n",
              "      display:flex;\n",
              "      flex-wrap:wrap;\n",
              "      gap: 12px;\n",
              "    }\n",
              "\n",
              "    .colab-df-convert {\n",
              "      background-color: #E8F0FE;\n",
              "      border: none;\n",
              "      border-radius: 50%;\n",
              "      cursor: pointer;\n",
              "      display: none;\n",
              "      fill: #1967D2;\n",
              "      height: 32px;\n",
              "      padding: 0 0 0 0;\n",
              "      width: 32px;\n",
              "    }\n",
              "\n",
              "    .colab-df-convert:hover {\n",
              "      background-color: #E2EBFA;\n",
              "      box-shadow: 0px 1px 2px rgba(60, 64, 67, 0.3), 0px 1px 3px 1px rgba(60, 64, 67, 0.15);\n",
              "      fill: #174EA6;\n",
              "    }\n",
              "\n",
              "    [theme=dark] .colab-df-convert {\n",
              "      background-color: #3B4455;\n",
              "      fill: #D2E3FC;\n",
              "    }\n",
              "\n",
              "    [theme=dark] .colab-df-convert:hover {\n",
              "      background-color: #434B5C;\n",
              "      box-shadow: 0px 1px 3px 1px rgba(0, 0, 0, 0.15);\n",
              "      filter: drop-shadow(0px 1px 2px rgba(0, 0, 0, 0.3));\n",
              "      fill: #FFFFFF;\n",
              "    }\n",
              "  </style>\n",
              "\n",
              "      <script>\n",
              "        const buttonEl =\n",
              "          document.querySelector('#df-409c4a56-6ad8-43c2-a5b6-457b74777123 button.colab-df-convert');\n",
              "        buttonEl.style.display =\n",
              "          google.colab.kernel.accessAllowed ? 'block' : 'none';\n",
              "\n",
              "        async function convertToInteractive(key) {\n",
              "          const element = document.querySelector('#df-409c4a56-6ad8-43c2-a5b6-457b74777123');\n",
              "          const dataTable =\n",
              "            await google.colab.kernel.invokeFunction('convertToInteractive',\n",
              "                                                     [key], {});\n",
              "          if (!dataTable) return;\n",
              "\n",
              "          const docLinkHtml = 'Like what you see? Visit the ' +\n",
              "            '<a target=\"_blank\" href=https://colab.research.google.com/notebooks/data_table.ipynb>data table notebook</a>'\n",
              "            + ' to learn more about interactive tables.';\n",
              "          element.innerHTML = '';\n",
              "          dataTable['output_type'] = 'display_data';\n",
              "          await google.colab.output.renderOutput(dataTable, element);\n",
              "          const docLink = document.createElement('div');\n",
              "          docLink.innerHTML = docLinkHtml;\n",
              "          element.appendChild(docLink);\n",
              "        }\n",
              "      </script>\n",
              "    </div>\n",
              "  </div>\n",
              "  "
            ]
          },
          "metadata": {},
          "execution_count": 256
        }
      ]
    },
    {
      "cell_type": "code",
      "source": [
        "to_be_dropped=[]\n",
        "train_feats = all_data.columns.difference(['claim_id', 'loss_date', 'target','claim_number']).tolist()\n",
        "for col in train_feats:\n",
        "  if all_data[col].std()<0.1:\n",
        "    to_be_dropped.append(col)"
      ],
      "metadata": {
        "id": "ev-QRW8aU1ZA"
      },
      "execution_count": null,
      "outputs": []
    },
    {
      "cell_type": "code",
      "source": [
        "all_data.drop(to_be_dropped,axis=1,inplace=True)\n",
        "all_data.fillna(-999,inplace=True)"
      ],
      "metadata": {
        "id": "iBCAMK0PVkPO"
      },
      "execution_count": null,
      "outputs": []
    },
    {
      "cell_type": "code",
      "source": [
        "# Convert categorical variables to categorical objects\n",
        "train_feats = all_data.columns.difference(['claim_id', 'loss_date', 'target','claim_number','source']).tolist()\n",
        "train=all_data.loc[all_data['source']==0]\n",
        "test=all_data.loc[all_data['source']==1]"
      ],
      "metadata": {
        "id": "gdlTsMModNXy"
      },
      "execution_count": null,
      "outputs": []
    },
    {
      "cell_type": "markdown",
      "source": [
        "<a name=\"Dates\"></a>\n",
        "## 8. Date features EDA"
      ],
      "metadata": {
        "id": "jY_lY3A2w5Qb"
      }
    },
    {
      "cell_type": "markdown",
      "source": [
        "<a name=\"Modelling\"></a>\n",
        "## 12.  Modelling"
      ],
      "metadata": {
        "id": "2gIDFBaMs8fk"
      }
    },
    {
      "cell_type": "code",
      "source": [
        "# Select main columns to be used in training\n",
        "X = train[train_feats]\n",
        "y = train.target\n",
        "\n",
        "# Split data into train and test sets\n",
        "X_train, X_test, y_train, y_test = train_test_split(X,y,test_size=0.3, random_state=0)"
      ],
      "metadata": {
        "id": "e3cCJUM2s4Q5"
      },
      "execution_count": null,
      "outputs": []
    },
    {
      "cell_type": "code",
      "source": [
        "from sklearn.model_selection import KFold,GroupKFold\n",
        "import statistics\n",
        "def cv(model,n_splits=5):\n",
        "    pres=[]\n",
        "    error=[]\n",
        "    skf=KFold(n_splits=n_splits,shuffle=True,random_state=12)\n",
        "    i=0\n",
        "    main=train_feats\n",
        "    oof_preds=np.zeros(X.shape[0])\n",
        "    oof_y=np.zeros(X.shape[0])\n",
        "   \n",
        "    for train_indices,test_indices in skf.split(X,y):\n",
        "        i=i+1\n",
        "        train_x,test_x=X.values[train_indices],X.values[test_indices]\n",
        "        train_y,test_y=y.iloc[train_indices],y.iloc[test_indices]\n",
        "        model.fit(train_x,train_y)\n",
        "        score=mean_absolute_error(test_y,model.predict(test_x))\n",
        "        error.append(score)\n",
        "        oof_preds[test_indices]=model.predict(test_x)\n",
        "        oof_y[test_indices]=test_y\n",
        "        print(str(i)+'fold :'+str(score))\n",
        "        print(str(i)+'average_fold :'+str(np.mean(error)))\n",
        "        preds=model.predict(test_df[main].values)\n",
        "        pres.append(preds)\n",
        "    pres=np.array(pres)\n",
        "    new_preds=[]\n",
        "    pres=np.transpose(pres)\n",
        "    for i in pres:\n",
        "        new_preds.append(statistics.mean(i))\n",
        "    predictions=new_preds\n",
        "    print('oof_score'+str(mean_absolute_error(oof_y,oof_preds)))\n",
        "    return predictions"
      ],
      "metadata": {
        "id": "UDmRlyxfwLF7"
      },
      "execution_count": null,
      "outputs": []
    },
    {
      "cell_type": "code",
      "source": [
        "from xgboost import XGBRegressor\n",
        "xgb=XGBRegressor(n_estimators=300,max_depth=3,random_state=12,\n",
        "                 learning_rate=0.08,colsample_bytree=0.8,subsample=0.8)\n",
        "xgb.fit(X_train, y_train)\n",
        "\n",
        "# Make predictions\n",
        "y_pred = xgb.predict(X_test)\n",
        "xgb_preds=cv(xgb)\n",
        "\n",
        "# Check the MAE score of the model\n",
        "print(f'LinearRegression MAE score on the X_test is: {mean_absolute_error(y_test, y_pred)}')"
      ],
      "metadata": {
        "colab": {
          "base_uri": "https://localhost:8080/",
          "height": 1000
        },
        "id": "mspbmqXqYwtI",
        "outputId": "85e00bf9-86a4-4832-f7f1-86fd31b6da57"
      },
      "execution_count": null,
      "outputs": [
        {
          "output_type": "stream",
          "name": "stdout",
          "text": [
            "[16:17:24] WARNING: /workspace/src/objective/regression_obj.cu:152: reg:linear is now deprecated in favor of reg:squarederror.\n",
            "[16:17:29] WARNING: /workspace/src/objective/regression_obj.cu:152: reg:linear is now deprecated in favor of reg:squarederror.\n",
            "1fold :32553.492109781524\n",
            "1average_fold :32553.492109781524\n"
          ]
        },
        {
          "output_type": "error",
          "ename": "KeyError",
          "evalue": "ignored",
          "traceback": [
            "\u001b[0;31m---------------------------------------------------------------------------\u001b[0m",
            "\u001b[0;31mKeyError\u001b[0m                                  Traceback (most recent call last)",
            "\u001b[0;32m<ipython-input-268-1ecdf2227956>\u001b[0m in \u001b[0;36m<module>\u001b[0;34m()\u001b[0m\n\u001b[1;32m      6\u001b[0m \u001b[0;31m# Make predictions\u001b[0m\u001b[0;34m\u001b[0m\u001b[0;34m\u001b[0m\u001b[0;34m\u001b[0m\u001b[0m\n\u001b[1;32m      7\u001b[0m \u001b[0my_pred\u001b[0m \u001b[0;34m=\u001b[0m \u001b[0mxgb\u001b[0m\u001b[0;34m.\u001b[0m\u001b[0mpredict\u001b[0m\u001b[0;34m(\u001b[0m\u001b[0mX_test\u001b[0m\u001b[0;34m)\u001b[0m\u001b[0;34m\u001b[0m\u001b[0;34m\u001b[0m\u001b[0m\n\u001b[0;32m----> 8\u001b[0;31m \u001b[0mxgb_preds\u001b[0m\u001b[0;34m=\u001b[0m\u001b[0mcv\u001b[0m\u001b[0;34m(\u001b[0m\u001b[0mxgb\u001b[0m\u001b[0;34m)\u001b[0m\u001b[0;34m\u001b[0m\u001b[0;34m\u001b[0m\u001b[0m\n\u001b[0m\u001b[1;32m      9\u001b[0m \u001b[0;34m\u001b[0m\u001b[0m\n\u001b[1;32m     10\u001b[0m \u001b[0;31m# Check the MAE score of the model\u001b[0m\u001b[0;34m\u001b[0m\u001b[0;34m\u001b[0m\u001b[0;34m\u001b[0m\u001b[0m\n",
            "\u001b[0;32m<ipython-input-267-016d3f76ec33>\u001b[0m in \u001b[0;36mcv\u001b[0;34m(model, n_splits)\u001b[0m\n\u001b[1;32m     21\u001b[0m         \u001b[0mprint\u001b[0m\u001b[0;34m(\u001b[0m\u001b[0mstr\u001b[0m\u001b[0;34m(\u001b[0m\u001b[0mi\u001b[0m\u001b[0;34m)\u001b[0m\u001b[0;34m+\u001b[0m\u001b[0;34m'fold :'\u001b[0m\u001b[0;34m+\u001b[0m\u001b[0mstr\u001b[0m\u001b[0;34m(\u001b[0m\u001b[0mscore\u001b[0m\u001b[0;34m)\u001b[0m\u001b[0;34m)\u001b[0m\u001b[0;34m\u001b[0m\u001b[0;34m\u001b[0m\u001b[0m\n\u001b[1;32m     22\u001b[0m         \u001b[0mprint\u001b[0m\u001b[0;34m(\u001b[0m\u001b[0mstr\u001b[0m\u001b[0;34m(\u001b[0m\u001b[0mi\u001b[0m\u001b[0;34m)\u001b[0m\u001b[0;34m+\u001b[0m\u001b[0;34m'average_fold :'\u001b[0m\u001b[0;34m+\u001b[0m\u001b[0mstr\u001b[0m\u001b[0;34m(\u001b[0m\u001b[0mnp\u001b[0m\u001b[0;34m.\u001b[0m\u001b[0mmean\u001b[0m\u001b[0;34m(\u001b[0m\u001b[0merror\u001b[0m\u001b[0;34m)\u001b[0m\u001b[0;34m)\u001b[0m\u001b[0;34m)\u001b[0m\u001b[0;34m\u001b[0m\u001b[0;34m\u001b[0m\u001b[0m\n\u001b[0;32m---> 23\u001b[0;31m         \u001b[0mpreds\u001b[0m\u001b[0;34m=\u001b[0m\u001b[0mmodel\u001b[0m\u001b[0;34m.\u001b[0m\u001b[0mpredict\u001b[0m\u001b[0;34m(\u001b[0m\u001b[0mtest_df\u001b[0m\u001b[0;34m[\u001b[0m\u001b[0mmain\u001b[0m\u001b[0;34m]\u001b[0m\u001b[0;34m.\u001b[0m\u001b[0mvalues\u001b[0m\u001b[0;34m)\u001b[0m\u001b[0;34m\u001b[0m\u001b[0;34m\u001b[0m\u001b[0m\n\u001b[0m\u001b[1;32m     24\u001b[0m         \u001b[0mpres\u001b[0m\u001b[0;34m.\u001b[0m\u001b[0mappend\u001b[0m\u001b[0;34m(\u001b[0m\u001b[0mpreds\u001b[0m\u001b[0;34m)\u001b[0m\u001b[0;34m\u001b[0m\u001b[0;34m\u001b[0m\u001b[0m\n\u001b[1;32m     25\u001b[0m     \u001b[0mpres\u001b[0m\u001b[0;34m=\u001b[0m\u001b[0mnp\u001b[0m\u001b[0;34m.\u001b[0m\u001b[0marray\u001b[0m\u001b[0;34m(\u001b[0m\u001b[0mpres\u001b[0m\u001b[0;34m)\u001b[0m\u001b[0;34m\u001b[0m\u001b[0;34m\u001b[0m\u001b[0m\n",
            "\u001b[0;32m/usr/local/lib/python3.7/dist-packages/pandas/core/frame.py\u001b[0m in \u001b[0;36m__getitem__\u001b[0;34m(self, key)\u001b[0m\n\u001b[1;32m   3462\u001b[0m             \u001b[0;32mif\u001b[0m \u001b[0mis_iterator\u001b[0m\u001b[0;34m(\u001b[0m\u001b[0mkey\u001b[0m\u001b[0;34m)\u001b[0m\u001b[0;34m:\u001b[0m\u001b[0;34m\u001b[0m\u001b[0;34m\u001b[0m\u001b[0m\n\u001b[1;32m   3463\u001b[0m                 \u001b[0mkey\u001b[0m \u001b[0;34m=\u001b[0m \u001b[0mlist\u001b[0m\u001b[0;34m(\u001b[0m\u001b[0mkey\u001b[0m\u001b[0;34m)\u001b[0m\u001b[0;34m\u001b[0m\u001b[0;34m\u001b[0m\u001b[0m\n\u001b[0;32m-> 3464\u001b[0;31m             \u001b[0mindexer\u001b[0m \u001b[0;34m=\u001b[0m \u001b[0mself\u001b[0m\u001b[0;34m.\u001b[0m\u001b[0mloc\u001b[0m\u001b[0;34m.\u001b[0m\u001b[0m_get_listlike_indexer\u001b[0m\u001b[0;34m(\u001b[0m\u001b[0mkey\u001b[0m\u001b[0;34m,\u001b[0m \u001b[0maxis\u001b[0m\u001b[0;34m=\u001b[0m\u001b[0;36m1\u001b[0m\u001b[0;34m)\u001b[0m\u001b[0;34m[\u001b[0m\u001b[0;36m1\u001b[0m\u001b[0;34m]\u001b[0m\u001b[0;34m\u001b[0m\u001b[0;34m\u001b[0m\u001b[0m\n\u001b[0m\u001b[1;32m   3465\u001b[0m \u001b[0;34m\u001b[0m\u001b[0m\n\u001b[1;32m   3466\u001b[0m         \u001b[0;31m# take() does not accept boolean indexers\u001b[0m\u001b[0;34m\u001b[0m\u001b[0;34m\u001b[0m\u001b[0;34m\u001b[0m\u001b[0m\n",
            "\u001b[0;32m/usr/local/lib/python3.7/dist-packages/pandas/core/indexing.py\u001b[0m in \u001b[0;36m_get_listlike_indexer\u001b[0;34m(self, key, axis)\u001b[0m\n\u001b[1;32m   1312\u001b[0m             \u001b[0mkeyarr\u001b[0m\u001b[0;34m,\u001b[0m \u001b[0mindexer\u001b[0m\u001b[0;34m,\u001b[0m \u001b[0mnew_indexer\u001b[0m \u001b[0;34m=\u001b[0m \u001b[0max\u001b[0m\u001b[0;34m.\u001b[0m\u001b[0m_reindex_non_unique\u001b[0m\u001b[0;34m(\u001b[0m\u001b[0mkeyarr\u001b[0m\u001b[0;34m)\u001b[0m\u001b[0;34m\u001b[0m\u001b[0;34m\u001b[0m\u001b[0m\n\u001b[1;32m   1313\u001b[0m \u001b[0;34m\u001b[0m\u001b[0m\n\u001b[0;32m-> 1314\u001b[0;31m         \u001b[0mself\u001b[0m\u001b[0;34m.\u001b[0m\u001b[0m_validate_read_indexer\u001b[0m\u001b[0;34m(\u001b[0m\u001b[0mkeyarr\u001b[0m\u001b[0;34m,\u001b[0m \u001b[0mindexer\u001b[0m\u001b[0;34m,\u001b[0m \u001b[0maxis\u001b[0m\u001b[0;34m)\u001b[0m\u001b[0;34m\u001b[0m\u001b[0;34m\u001b[0m\u001b[0m\n\u001b[0m\u001b[1;32m   1315\u001b[0m \u001b[0;34m\u001b[0m\u001b[0m\n\u001b[1;32m   1316\u001b[0m         if needs_i8_conversion(ax.dtype) or isinstance(\n",
            "\u001b[0;32m/usr/local/lib/python3.7/dist-packages/pandas/core/indexing.py\u001b[0m in \u001b[0;36m_validate_read_indexer\u001b[0;34m(self, key, indexer, axis)\u001b[0m\n\u001b[1;32m   1375\u001b[0m \u001b[0;34m\u001b[0m\u001b[0m\n\u001b[1;32m   1376\u001b[0m             \u001b[0mnot_found\u001b[0m \u001b[0;34m=\u001b[0m \u001b[0mlist\u001b[0m\u001b[0;34m(\u001b[0m\u001b[0mensure_index\u001b[0m\u001b[0;34m(\u001b[0m\u001b[0mkey\u001b[0m\u001b[0;34m)\u001b[0m\u001b[0;34m[\u001b[0m\u001b[0mmissing_mask\u001b[0m\u001b[0;34m.\u001b[0m\u001b[0mnonzero\u001b[0m\u001b[0;34m(\u001b[0m\u001b[0;34m)\u001b[0m\u001b[0;34m[\u001b[0m\u001b[0;36m0\u001b[0m\u001b[0;34m]\u001b[0m\u001b[0;34m]\u001b[0m\u001b[0;34m.\u001b[0m\u001b[0munique\u001b[0m\u001b[0;34m(\u001b[0m\u001b[0;34m)\u001b[0m\u001b[0;34m)\u001b[0m\u001b[0;34m\u001b[0m\u001b[0;34m\u001b[0m\u001b[0m\n\u001b[0;32m-> 1377\u001b[0;31m             \u001b[0;32mraise\u001b[0m \u001b[0mKeyError\u001b[0m\u001b[0;34m(\u001b[0m\u001b[0;34mf\"{not_found} not in index\"\u001b[0m\u001b[0;34m)\u001b[0m\u001b[0;34m\u001b[0m\u001b[0;34m\u001b[0m\u001b[0m\n\u001b[0m\u001b[1;32m   1378\u001b[0m \u001b[0;34m\u001b[0m\u001b[0m\n\u001b[1;32m   1379\u001b[0m \u001b[0;34m\u001b[0m\u001b[0m\n",
            "\u001b[0;31mKeyError\u001b[0m: \"['agent_ag00021', 'agent_ag00044', 'agent_ag00083', 'branch_br00004', 'branch_br00005', 'branch_br00006', 'branch_br00008', 'branch_br00009', 'class_of_business_cob00001', 'class_of_business_cob00004', 'class_of_business_cob00013', 'class_of_business_cob00015', 'class_of_business_cob00016', 'class_of_business_cob00022', 'class_of_business_cob00023', 'class_of_business_cob00026', 'client_type_ct0002', 'policy_number_pol000005926', 'policy_number_pol000005951', 'policy_number_pol000005960', 'policy_number_pol000006026', 'policy_number_pol000007723', 'policy_number_pol000007844', 'primary_cause_pc0001', 'primary_cause_pc0002', 'primary_cause_pc0004', 'primary_cause_pc0011', 'primary_cause_pc0012', 'primary_cause_pc0015', 'primary_cause_pc0017', 'product_prod00002', 'product_prod00008', 'product_prod00011', 'product_prod00012', 'product_prod00018', 'product_prod00021', 'product_prod00028', 'renewal_frequency_rf0004', 'renewal_frequency_rf0005', 'risk_type_rt00001', 'risk_type_rt00002', 'risk_type_rt00013', 'risk_type_rt00015', 'risk_type_rt00018', 'risk_type_rt00024', 'risk_type_rt00025', 'risk_type_rt00027', 'risk_type_rt00033', 'risk_type_rt00050', 'secondary_cause_sc00003', 'secondary_cause_sc00004', 'secondary_cause_sc00008', 'secondary_cause_sc00020', 'secondary_cause_sc00025', 'secondary_cause_sc00029', 'secondary_cause_sc00031', 'secondary_cause_sc00032', 'secondary_cause_sc00050'] not in index\""
          ]
        }
      ]
    },
    {
      "cell_type": "code",
      "source": [
        "!pip install catboost --q"
      ],
      "metadata": {
        "id": "wPC2W7KMpG12"
      },
      "execution_count": null,
      "outputs": []
    },
    {
      "cell_type": "code",
      "source": [
        "from catboost import CatBoostRegressor\n",
        "cat= CatBoostRegressor( loss_function= 'MAE',\n",
        "learning_rate= 0.08,\n",
        "iterations= 650,                       \n",
        "depth= 3,\n",
        "subsample=0.8,\n",
        "bootstrap_type= 'Bernoulli',\n",
        "colsample_bylevel=0.8,\n",
        "random_seed= 42,\n",
        "verbose= 100 )\n",
        "cat.fit(X_train,y_train)\n",
        "y_pred = cat.predict(X_test)\n",
        "cat_preds=cv(cat)\n",
        "\n",
        "# Check the MAE score of the model\n",
        "print(f'LinearRegression MAE score on the X_test is: {mean_absolute_error(y_test, y_pred)}')"
      ],
      "metadata": {
        "colab": {
          "base_uri": "https://localhost:8080/",
          "height": 1000
        },
        "id": "IPhO8ZGFo1v4",
        "outputId": "019eae4c-3c9a-4356-f7af-cbed19a1a1de"
      },
      "execution_count": null,
      "outputs": [
        {
          "output_type": "stream",
          "name": "stdout",
          "text": [
            "0:\tlearn: 41808.0317886\ttotal: 2.36ms\tremaining: 1.53s\n",
            "100:\tlearn: 34880.3241174\ttotal: 182ms\tremaining: 989ms\n",
            "200:\tlearn: 30530.5733730\ttotal: 358ms\tremaining: 799ms\n",
            "300:\tlearn: 29326.9674776\ttotal: 546ms\tremaining: 633ms\n",
            "400:\tlearn: 28748.4208453\ttotal: 717ms\tremaining: 445ms\n",
            "500:\tlearn: 28329.9024956\ttotal: 903ms\tremaining: 268ms\n",
            "600:\tlearn: 28011.4193925\ttotal: 1.07s\tremaining: 87.7ms\n",
            "649:\tlearn: 27759.5066907\ttotal: 1.16s\tremaining: 0us\n",
            "0:\tlearn: 41560.3072617\ttotal: 2.1ms\tremaining: 1.36s\n",
            "100:\tlearn: 34647.7941780\ttotal: 191ms\tremaining: 1.04s\n",
            "200:\tlearn: 30972.9730829\ttotal: 397ms\tremaining: 886ms\n",
            "300:\tlearn: 29810.3169984\ttotal: 588ms\tremaining: 681ms\n",
            "400:\tlearn: 28298.7821963\ttotal: 780ms\tremaining: 484ms\n",
            "500:\tlearn: 27911.5797815\ttotal: 970ms\tremaining: 289ms\n",
            "600:\tlearn: 27632.4601833\ttotal: 1.16s\tremaining: 94.2ms\n",
            "649:\tlearn: 27545.3269995\ttotal: 1.24s\tremaining: 0us\n",
            "1fold :27543.29831117191\n",
            "1average_fold :27543.29831117191\n"
          ]
        },
        {
          "output_type": "error",
          "ename": "KeyError",
          "evalue": "ignored",
          "traceback": [
            "\u001b[0;31m---------------------------------------------------------------------------\u001b[0m",
            "\u001b[0;31mKeyError\u001b[0m                                  Traceback (most recent call last)",
            "\u001b[0;32m<ipython-input-264-86511b1d1b93>\u001b[0m in \u001b[0;36m<module>\u001b[0;34m()\u001b[0m\n\u001b[1;32m     11\u001b[0m \u001b[0mcat\u001b[0m\u001b[0;34m.\u001b[0m\u001b[0mfit\u001b[0m\u001b[0;34m(\u001b[0m\u001b[0mX_train\u001b[0m\u001b[0;34m,\u001b[0m\u001b[0my_train\u001b[0m\u001b[0;34m)\u001b[0m\u001b[0;34m\u001b[0m\u001b[0;34m\u001b[0m\u001b[0m\n\u001b[1;32m     12\u001b[0m \u001b[0my_pred\u001b[0m \u001b[0;34m=\u001b[0m \u001b[0mcat\u001b[0m\u001b[0;34m.\u001b[0m\u001b[0mpredict\u001b[0m\u001b[0;34m(\u001b[0m\u001b[0mX_test\u001b[0m\u001b[0;34m)\u001b[0m\u001b[0;34m\u001b[0m\u001b[0;34m\u001b[0m\u001b[0m\n\u001b[0;32m---> 13\u001b[0;31m \u001b[0mcat_preds\u001b[0m\u001b[0;34m=\u001b[0m\u001b[0mcv\u001b[0m\u001b[0;34m(\u001b[0m\u001b[0mcat\u001b[0m\u001b[0;34m)\u001b[0m\u001b[0;34m\u001b[0m\u001b[0;34m\u001b[0m\u001b[0m\n\u001b[0m\u001b[1;32m     14\u001b[0m \u001b[0;34m\u001b[0m\u001b[0m\n\u001b[1;32m     15\u001b[0m \u001b[0;31m# Check the MAE score of the model\u001b[0m\u001b[0;34m\u001b[0m\u001b[0;34m\u001b[0m\u001b[0;34m\u001b[0m\u001b[0m\n",
            "\u001b[0;32m<ipython-input-261-73e3fe2e37e7>\u001b[0m in \u001b[0;36mcv\u001b[0;34m(model, n_splits)\u001b[0m\n\u001b[1;32m     21\u001b[0m         \u001b[0mprint\u001b[0m\u001b[0;34m(\u001b[0m\u001b[0mstr\u001b[0m\u001b[0;34m(\u001b[0m\u001b[0mi\u001b[0m\u001b[0;34m)\u001b[0m\u001b[0;34m+\u001b[0m\u001b[0;34m'fold :'\u001b[0m\u001b[0;34m+\u001b[0m\u001b[0mstr\u001b[0m\u001b[0;34m(\u001b[0m\u001b[0mscore\u001b[0m\u001b[0;34m)\u001b[0m\u001b[0;34m)\u001b[0m\u001b[0;34m\u001b[0m\u001b[0;34m\u001b[0m\u001b[0m\n\u001b[1;32m     22\u001b[0m         \u001b[0mprint\u001b[0m\u001b[0;34m(\u001b[0m\u001b[0mstr\u001b[0m\u001b[0;34m(\u001b[0m\u001b[0mi\u001b[0m\u001b[0;34m)\u001b[0m\u001b[0;34m+\u001b[0m\u001b[0;34m'average_fold :'\u001b[0m\u001b[0;34m+\u001b[0m\u001b[0mstr\u001b[0m\u001b[0;34m(\u001b[0m\u001b[0mnp\u001b[0m\u001b[0;34m.\u001b[0m\u001b[0mmean\u001b[0m\u001b[0;34m(\u001b[0m\u001b[0merror\u001b[0m\u001b[0;34m)\u001b[0m\u001b[0;34m)\u001b[0m\u001b[0;34m)\u001b[0m\u001b[0;34m\u001b[0m\u001b[0;34m\u001b[0m\u001b[0m\n\u001b[0;32m---> 23\u001b[0;31m         \u001b[0mpreds\u001b[0m\u001b[0;34m=\u001b[0m\u001b[0mmodel\u001b[0m\u001b[0;34m.\u001b[0m\u001b[0mpredict\u001b[0m\u001b[0;34m(\u001b[0m\u001b[0mtest_df\u001b[0m\u001b[0;34m[\u001b[0m\u001b[0mmain\u001b[0m\u001b[0;34m]\u001b[0m\u001b[0;34m.\u001b[0m\u001b[0mvalues\u001b[0m\u001b[0;34m)\u001b[0m\u001b[0;34m\u001b[0m\u001b[0;34m\u001b[0m\u001b[0m\n\u001b[0m\u001b[1;32m     24\u001b[0m         \u001b[0mpres\u001b[0m\u001b[0;34m.\u001b[0m\u001b[0mappend\u001b[0m\u001b[0;34m(\u001b[0m\u001b[0mpreds\u001b[0m\u001b[0;34m)\u001b[0m\u001b[0;34m\u001b[0m\u001b[0;34m\u001b[0m\u001b[0m\n\u001b[1;32m     25\u001b[0m     \u001b[0mpres\u001b[0m\u001b[0;34m=\u001b[0m\u001b[0mnp\u001b[0m\u001b[0;34m.\u001b[0m\u001b[0marray\u001b[0m\u001b[0;34m(\u001b[0m\u001b[0mpres\u001b[0m\u001b[0;34m)\u001b[0m\u001b[0;34m\u001b[0m\u001b[0;34m\u001b[0m\u001b[0m\n",
            "\u001b[0;32m/usr/local/lib/python3.7/dist-packages/pandas/core/frame.py\u001b[0m in \u001b[0;36m__getitem__\u001b[0;34m(self, key)\u001b[0m\n\u001b[1;32m   3462\u001b[0m             \u001b[0;32mif\u001b[0m \u001b[0mis_iterator\u001b[0m\u001b[0;34m(\u001b[0m\u001b[0mkey\u001b[0m\u001b[0;34m)\u001b[0m\u001b[0;34m:\u001b[0m\u001b[0;34m\u001b[0m\u001b[0;34m\u001b[0m\u001b[0m\n\u001b[1;32m   3463\u001b[0m                 \u001b[0mkey\u001b[0m \u001b[0;34m=\u001b[0m \u001b[0mlist\u001b[0m\u001b[0;34m(\u001b[0m\u001b[0mkey\u001b[0m\u001b[0;34m)\u001b[0m\u001b[0;34m\u001b[0m\u001b[0;34m\u001b[0m\u001b[0m\n\u001b[0;32m-> 3464\u001b[0;31m             \u001b[0mindexer\u001b[0m \u001b[0;34m=\u001b[0m \u001b[0mself\u001b[0m\u001b[0;34m.\u001b[0m\u001b[0mloc\u001b[0m\u001b[0;34m.\u001b[0m\u001b[0m_get_listlike_indexer\u001b[0m\u001b[0;34m(\u001b[0m\u001b[0mkey\u001b[0m\u001b[0;34m,\u001b[0m \u001b[0maxis\u001b[0m\u001b[0;34m=\u001b[0m\u001b[0;36m1\u001b[0m\u001b[0;34m)\u001b[0m\u001b[0;34m[\u001b[0m\u001b[0;36m1\u001b[0m\u001b[0;34m]\u001b[0m\u001b[0;34m\u001b[0m\u001b[0;34m\u001b[0m\u001b[0m\n\u001b[0m\u001b[1;32m   3465\u001b[0m \u001b[0;34m\u001b[0m\u001b[0m\n\u001b[1;32m   3466\u001b[0m         \u001b[0;31m# take() does not accept boolean indexers\u001b[0m\u001b[0;34m\u001b[0m\u001b[0;34m\u001b[0m\u001b[0;34m\u001b[0m\u001b[0m\n",
            "\u001b[0;32m/usr/local/lib/python3.7/dist-packages/pandas/core/indexing.py\u001b[0m in \u001b[0;36m_get_listlike_indexer\u001b[0;34m(self, key, axis)\u001b[0m\n\u001b[1;32m   1312\u001b[0m             \u001b[0mkeyarr\u001b[0m\u001b[0;34m,\u001b[0m \u001b[0mindexer\u001b[0m\u001b[0;34m,\u001b[0m \u001b[0mnew_indexer\u001b[0m \u001b[0;34m=\u001b[0m \u001b[0max\u001b[0m\u001b[0;34m.\u001b[0m\u001b[0m_reindex_non_unique\u001b[0m\u001b[0;34m(\u001b[0m\u001b[0mkeyarr\u001b[0m\u001b[0;34m)\u001b[0m\u001b[0;34m\u001b[0m\u001b[0;34m\u001b[0m\u001b[0m\n\u001b[1;32m   1313\u001b[0m \u001b[0;34m\u001b[0m\u001b[0m\n\u001b[0;32m-> 1314\u001b[0;31m         \u001b[0mself\u001b[0m\u001b[0;34m.\u001b[0m\u001b[0m_validate_read_indexer\u001b[0m\u001b[0;34m(\u001b[0m\u001b[0mkeyarr\u001b[0m\u001b[0;34m,\u001b[0m \u001b[0mindexer\u001b[0m\u001b[0;34m,\u001b[0m \u001b[0maxis\u001b[0m\u001b[0;34m)\u001b[0m\u001b[0;34m\u001b[0m\u001b[0;34m\u001b[0m\u001b[0m\n\u001b[0m\u001b[1;32m   1315\u001b[0m \u001b[0;34m\u001b[0m\u001b[0m\n\u001b[1;32m   1316\u001b[0m         if needs_i8_conversion(ax.dtype) or isinstance(\n",
            "\u001b[0;32m/usr/local/lib/python3.7/dist-packages/pandas/core/indexing.py\u001b[0m in \u001b[0;36m_validate_read_indexer\u001b[0;34m(self, key, indexer, axis)\u001b[0m\n\u001b[1;32m   1375\u001b[0m \u001b[0;34m\u001b[0m\u001b[0m\n\u001b[1;32m   1376\u001b[0m             \u001b[0mnot_found\u001b[0m \u001b[0;34m=\u001b[0m \u001b[0mlist\u001b[0m\u001b[0;34m(\u001b[0m\u001b[0mensure_index\u001b[0m\u001b[0;34m(\u001b[0m\u001b[0mkey\u001b[0m\u001b[0;34m)\u001b[0m\u001b[0;34m[\u001b[0m\u001b[0mmissing_mask\u001b[0m\u001b[0;34m.\u001b[0m\u001b[0mnonzero\u001b[0m\u001b[0;34m(\u001b[0m\u001b[0;34m)\u001b[0m\u001b[0;34m[\u001b[0m\u001b[0;36m0\u001b[0m\u001b[0;34m]\u001b[0m\u001b[0;34m]\u001b[0m\u001b[0;34m.\u001b[0m\u001b[0munique\u001b[0m\u001b[0;34m(\u001b[0m\u001b[0;34m)\u001b[0m\u001b[0;34m)\u001b[0m\u001b[0;34m\u001b[0m\u001b[0;34m\u001b[0m\u001b[0m\n\u001b[0;32m-> 1377\u001b[0;31m             \u001b[0;32mraise\u001b[0m \u001b[0mKeyError\u001b[0m\u001b[0;34m(\u001b[0m\u001b[0;34mf\"{not_found} not in index\"\u001b[0m\u001b[0;34m)\u001b[0m\u001b[0;34m\u001b[0m\u001b[0;34m\u001b[0m\u001b[0m\n\u001b[0m\u001b[1;32m   1378\u001b[0m \u001b[0;34m\u001b[0m\u001b[0m\n\u001b[1;32m   1379\u001b[0m \u001b[0;34m\u001b[0m\u001b[0m\n",
            "\u001b[0;31mKeyError\u001b[0m: \"['agent_ag00021', 'agent_ag00044', 'agent_ag00083', 'branch_br00004', 'branch_br00005', 'branch_br00006', 'branch_br00008', 'branch_br00009', 'class_of_business_cob00001', 'class_of_business_cob00004', 'class_of_business_cob00013', 'class_of_business_cob00015', 'class_of_business_cob00016', 'class_of_business_cob00022', 'class_of_business_cob00023', 'class_of_business_cob00026', 'client_type_ct0002', 'policy_number_pol000005926', 'policy_number_pol000005951', 'policy_number_pol000005960', 'policy_number_pol000006026', 'policy_number_pol000007723', 'policy_number_pol000007844', 'primary_cause_pc0001', 'primary_cause_pc0002', 'primary_cause_pc0004', 'primary_cause_pc0011', 'primary_cause_pc0012', 'primary_cause_pc0015', 'primary_cause_pc0017', 'product_prod00002', 'product_prod00008', 'product_prod00011', 'product_prod00012', 'product_prod00018', 'product_prod00021', 'product_prod00028', 'renewal_frequency_rf0004', 'renewal_frequency_rf0005', 'risk_type_rt00001', 'risk_type_rt00002', 'risk_type_rt00013', 'risk_type_rt00015', 'risk_type_rt00018', 'risk_type_rt00024', 'risk_type_rt00025', 'risk_type_rt00027', 'risk_type_rt00033', 'risk_type_rt00050', 'secondary_cause_sc00003', 'secondary_cause_sc00004', 'secondary_cause_sc00008', 'secondary_cause_sc00020', 'secondary_cause_sc00025', 'secondary_cause_sc00029', 'secondary_cause_sc00031', 'secondary_cause_sc00032', 'secondary_cause_sc00050'] not in index\""
          ]
        }
      ]
    },
    {
      "cell_type": "markdown",
      "source": [
        "<a name=\"Predictions\"></a>\n",
        "## 13. Making predictions of the test set and creating a submission file"
      ],
      "metadata": {
        "id": "7UuShmECwAbL"
      }
    },
    {
      "cell_type": "code",
      "source": [
        ""
      ],
      "metadata": {
        "id": "Ff4d6H77PYSy"
      },
      "execution_count": null,
      "outputs": []
    },
    {
      "cell_type": "code",
      "source": [
        "# Make prediction on the test set\n",
        "#cat.fit(X,y)\n",
        "test_df = test[train_feats]\n",
        "predictions = np.array(cat_preds)*0.6+np.array(xgb_preds)*0.4\n",
        "\n",
        "# # Create a submission file\n",
        "sub_file = samplesubmission.copy()\n",
        "sub_file.target = np.clip(predictions,0,10000000)"
      ],
      "metadata": {
        "id": "xJo1lD5cs4MM"
      },
      "execution_count": null,
      "outputs": []
    },
    {
      "cell_type": "code",
      "source": [
        ""
      ],
      "metadata": {
        "id": "CIBOvylIoRiw"
      },
      "execution_count": null,
      "outputs": []
    },
    {
      "cell_type": "markdown",
      "source": [
        " - There are some outliers in our predictions. \n",
        " - More inspection/data preprocessing is needed"
      ],
      "metadata": {
        "id": "qTjjKQchqRVq"
      }
    },
    {
      "cell_type": "code",
      "source": [
        "# Write to csv file to submit to Zindi\n",
        "sub_file.to_csv(\"0.25blendkfold.csv\", index = False)"
      ],
      "metadata": {
        "id": "orThwtMX1oNm"
      },
      "execution_count": null,
      "outputs": []
    },
    {
      "cell_type": "markdown",
      "source": [
        "<a name=\"Tips\"></a>\n",
        "## 1. More Tips\n",
        "- Use more data - policies data\n",
        "- Thorough EDA and domain knowledge sourcing\n",
        "- Re-group Categorical features \n",
        "- More Feature Engineering \n",
        "- Ensembl4ing of models \n",
        "- Cross-validation: Group folds, Stratified..."
      ],
      "metadata": {
        "id": "QKXXj1Yh4-ZK"
      }
    },
    {
      "cell_type": "markdown",
      "source": [
        "# ******************* HAPPY HACKING ***************************"
      ],
      "metadata": {
        "id": "k_BBwmW05HAR"
      }
    }
  ]
}