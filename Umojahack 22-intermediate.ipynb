{
  "cells": [
    {
      "cell_type": "markdown",
      "metadata": {},
      "source": [
        "## Table of contents:\n",
        "\n",
        "1. [Importing libraries](#Libraries)\n",
        "2. [Loading data](#Data)\n",
        "3. [Feature engineering](#Engineering)\n",
        "4. [Cross validation](#CrossValidation)\n",
        "5. [Modelling](#Modelling)\n",
        "6. [What i didn't do ](#mistakes)\n",
        "7. [what hindered me](#hinder)"
      ]
    },
    {
      "cell_type": "markdown",
      "metadata": {
        "id": "I8Kdz7a25j4P"
      },
      "source": [
        "<a name=\"Libraries\"></a>\n",
        "## 1. Importing libraries\n"
      ]
    },
    {
      "cell_type": "code",
      "execution_count": 1,
      "metadata": {
        "id": "GJvGrR3AXhny"
      },
      "outputs": [],
      "source": [
        "# Import libraries\n",
        "import pandas as pd\n",
        "import numpy as np\n",
        "from sklearn.metrics import mean_absolute_error\n",
        "from sklearn.model_selection import train_test_split\n",
        "pd.options.display.float_format = '{:.5f}'.format\n",
        "\n",
        "%matplotlib inline\n",
        "import warnings\n",
        "warnings.filterwarnings('ignore')"
      ]
    },
    {
      "cell_type": "markdown",
      "metadata": {
        "id": "ro-KRpqn5pbB"
      },
      "source": [
        "<a name=\"Data\"></a>\n",
        "## 2. Loading data"
      ]
    },
    {
      "cell_type": "code",
      "execution_count": 2,
      "metadata": {
        "colab": {
          "base_uri": "https://localhost:8080/",
          "height": 268
        },
        "id": "V54N2h-CXzmI",
        "outputId": "efad1e1a-c2b6-4768-e602-edb41aa429c7"
      },
      "outputs": [
        {
          "data": {
            "text/html": [
              "<div>\n",
              "<style scoped>\n",
              "    .dataframe tbody tr th:only-of-type {\n",
              "        vertical-align: middle;\n",
              "    }\n",
              "\n",
              "    .dataframe tbody tr th {\n",
              "        vertical-align: top;\n",
              "    }\n",
              "\n",
              "    .dataframe thead th {\n",
              "        text-align: right;\n",
              "    }\n",
              "</style>\n",
              "<table border=\"1\" class=\"dataframe\">\n",
              "  <thead>\n",
              "    <tr style=\"text-align: right;\">\n",
              "      <th></th>\n",
              "      <th>claim_id</th>\n",
              "      <th>policy_number</th>\n",
              "      <th>claim_number</th>\n",
              "      <th>sum_insured</th>\n",
              "      <th>product</th>\n",
              "      <th>agent</th>\n",
              "      <th>class_of_business</th>\n",
              "      <th>risk_type</th>\n",
              "      <th>loss_date</th>\n",
              "      <th>client_type</th>\n",
              "      <th>renewal_frequency</th>\n",
              "      <th>primary_cause</th>\n",
              "      <th>secondary_cause</th>\n",
              "      <th>branch</th>\n",
              "      <th>target</th>\n",
              "    </tr>\n",
              "  </thead>\n",
              "  <tbody>\n",
              "    <tr>\n",
              "      <th>0</th>\n",
              "      <td>ID_JZ7QWRHH57RO</td>\n",
              "      <td>pol000009680</td>\n",
              "      <td>claim0011359</td>\n",
              "      <td>300000.00000</td>\n",
              "      <td>prod00027</td>\n",
              "      <td>ag00068</td>\n",
              "      <td>cob00031</td>\n",
              "      <td>rt00006</td>\n",
              "      <td>2021-05-13</td>\n",
              "      <td>ct0003</td>\n",
              "      <td>rf0001</td>\n",
              "      <td>pc0007</td>\n",
              "      <td>sc00022</td>\n",
              "      <td>br00006</td>\n",
              "      <td>82150.00000</td>\n",
              "    </tr>\n",
              "    <tr>\n",
              "      <th>1</th>\n",
              "      <td>ID_KQ5TJMVLJ4EP</td>\n",
              "      <td>pol000006869</td>\n",
              "      <td>claim0005272</td>\n",
              "      <td>16000.00000</td>\n",
              "      <td>prod00005</td>\n",
              "      <td>ag00226</td>\n",
              "      <td>cob00010</td>\n",
              "      <td>rt00032</td>\n",
              "      <td>2018-05-13</td>\n",
              "      <td>ct0003</td>\n",
              "      <td>rf0001</td>\n",
              "      <td>pc0007</td>\n",
              "      <td>sc00023</td>\n",
              "      <td>br00002</td>\n",
              "      <td>3780.24000</td>\n",
              "    </tr>\n",
              "    <tr>\n",
              "      <th>2</th>\n",
              "      <td>ID_NYHI7WJGGIAE</td>\n",
              "      <td>pol000006135</td>\n",
              "      <td>claim0004147</td>\n",
              "      <td>3000.00000</td>\n",
              "      <td>prod00029</td>\n",
              "      <td>ag00037</td>\n",
              "      <td>cob00010</td>\n",
              "      <td>rt00026</td>\n",
              "      <td>2018-08-18</td>\n",
              "      <td>ct0003</td>\n",
              "      <td>rf0001</td>\n",
              "      <td>pc0007</td>\n",
              "      <td>sc00024</td>\n",
              "      <td>br00002</td>\n",
              "      <td>2196.50000</td>\n",
              "    </tr>\n",
              "    <tr>\n",
              "      <th>3</th>\n",
              "      <td>ID_ROMMDCXYUXN5</td>\n",
              "      <td>pol000008991</td>\n",
              "      <td>claim0009962</td>\n",
              "      <td>6000.00000</td>\n",
              "      <td>prod00005</td>\n",
              "      <td>ag00037</td>\n",
              "      <td>cob00009</td>\n",
              "      <td>rt00032</td>\n",
              "      <td>2018-12-20</td>\n",
              "      <td>ct0003</td>\n",
              "      <td>rf0001</td>\n",
              "      <td>pc0007</td>\n",
              "      <td>sc00021</td>\n",
              "      <td>br00001</td>\n",
              "      <td>105.67000</td>\n",
              "    </tr>\n",
              "    <tr>\n",
              "      <th>4</th>\n",
              "      <td>ID_2OTD9NX8L73D</td>\n",
              "      <td>pol000007768</td>\n",
              "      <td>claim0007346</td>\n",
              "      <td>26850.00000</td>\n",
              "      <td>prod00015</td>\n",
              "      <td>ag00226</td>\n",
              "      <td>cob00034</td>\n",
              "      <td>rt00023</td>\n",
              "      <td>2018-11-07</td>\n",
              "      <td>ct0001</td>\n",
              "      <td>rf0001</td>\n",
              "      <td>pc0007</td>\n",
              "      <td>sc00021</td>\n",
              "      <td>br00001</td>\n",
              "      <td>1605.64000</td>\n",
              "    </tr>\n",
              "  </tbody>\n",
              "</table>\n",
              "</div>"
            ],
            "text/plain": [
              "          claim_id policy_number  claim_number  sum_insured    product  \\\n",
              "0  ID_JZ7QWRHH57RO  pol000009680  claim0011359 300000.00000  prod00027   \n",
              "1  ID_KQ5TJMVLJ4EP  pol000006869  claim0005272  16000.00000  prod00005   \n",
              "2  ID_NYHI7WJGGIAE  pol000006135  claim0004147   3000.00000  prod00029   \n",
              "3  ID_ROMMDCXYUXN5  pol000008991  claim0009962   6000.00000  prod00005   \n",
              "4  ID_2OTD9NX8L73D  pol000007768  claim0007346  26850.00000  prod00015   \n",
              "\n",
              "     agent class_of_business risk_type   loss_date client_type  \\\n",
              "0  ag00068          cob00031   rt00006  2021-05-13      ct0003   \n",
              "1  ag00226          cob00010   rt00032  2018-05-13      ct0003   \n",
              "2  ag00037          cob00010   rt00026  2018-08-18      ct0003   \n",
              "3  ag00037          cob00009   rt00032  2018-12-20      ct0003   \n",
              "4  ag00226          cob00034   rt00023  2018-11-07      ct0001   \n",
              "\n",
              "  renewal_frequency primary_cause secondary_cause   branch      target  \n",
              "0            rf0001        pc0007         sc00022  br00006 82150.00000  \n",
              "1            rf0001        pc0007         sc00023  br00002  3780.24000  \n",
              "2            rf0001        pc0007         sc00024  br00002  2196.50000  \n",
              "3            rf0001        pc0007         sc00021  br00001   105.67000  \n",
              "4            rf0001        pc0007         sc00021  br00001  1605.64000  "
            ]
          },
          "execution_count": 2,
          "metadata": {},
          "output_type": "execute_result"
        }
      ],
      "source": [
        "# Load files\n",
        "train = pd.read_csv('train.csv')\n",
        "policies = pd.read_csv('policies.csv')\n",
        "test = pd.read_csv('test.csv')\n",
        "samplesubmission = pd.read_csv('SampleSubmission.csv')\n",
        "\n",
        "# Preview train dataset\n",
        "train.head()"
      ]
    },
    {
      "cell_type": "markdown",
      "metadata": {},
      "source": [
        "# 3. Feature enginnering #"
      ]
    },
    {
      "cell_type": "code",
      "execution_count": 3,
      "metadata": {
        "id": "LzrxA30IMnLr"
      },
      "outputs": [],
      "source": [
        "#merging the train and test data for easy fetaure engineering \n",
        "train['source']=0\n",
        "test['source']=1\n",
        "all_data=pd.concat([train,test])"
      ]
    },
    {
      "cell_type": "code",
      "execution_count": 4,
      "metadata": {
        "id": "GKuAJU49Kkks"
      },
      "outputs": [],
      "source": [
        "#list of categorical columns\n",
        "cat_columns= ['policy_number','product','agent','class_of_business','risk_type','client_type','renewal_frequency', 'primary_cause', 'secondary_cause', 'branch']"
      ]
    },
    {
      "cell_type": "code",
      "execution_count": 5,
      "metadata": {
        "id": "tpIx-I9jgEUe"
      },
      "outputs": [],
      "source": [
        "# target encoding \n",
        "for cat in cat_columns:\n",
        "  means=train.groupby(cat).mean().target\n",
        "  df=pd.DataFrame({'encoded'+cat:means.values,cat:means.index.values.tolist()})\n",
        "  all_data=pd.merge(all_data,df,how='left', on=[cat])"
      ]
    },
    {
      "cell_type": "code",
      "execution_count": 6,
      "metadata": {
        "id": "rVeip38XRA90"
      },
      "outputs": [],
      "source": [
        "# one hot encoding my categorical columns\n",
        "all_data=pd.get_dummies(all_data,columns=cat_columns)"
      ]
    },
    {
      "cell_type": "markdown",
      "metadata": {
        "id": "mw2PVnGOdThR"
      },
      "source": [
        "\n",
        "### Generating Datetime features"
      ]
    },
    {
      "cell_type": "code",
      "execution_count": 7,
      "metadata": {
        "id": "7fhg4-rsdNaW"
      },
      "outputs": [
        {
          "data": {
            "text/plain": [
              "(13395, 5484)"
            ]
          },
          "execution_count": 7,
          "metadata": {},
          "output_type": "execute_result"
        }
      ],
      "source": [
        "# Convert datetime variables to datetime objects\n",
        "all_data.loss_date = pd.to_datetime(all_data.loss_date, errors='coerce')\n",
        "all_data['loss_date_day_of_week'] = all_data.loss_date.dt.dayofweek\n",
        "all_data['loss_date_month'] = all_data.loss_date.dt.month\n",
        "all_data['loss_date_year'] = all_data.loss_date.dt.year\n",
        "all_data.shape"
      ]
    },
    {
      "cell_type": "markdown",
      "metadata": {},
      "source": [
        "##### As we can see above our data now has 5400+ column, which is way too much, this occurred as a result of our one hot encoding, because the categorical columns has too many unique values, that was i used target encoding for all cat_columns and will now drop some of the columns with low standard deviation. "
      ]
    },
    {
      "cell_type": "code",
      "execution_count": 8,
      "metadata": {
        "id": "ev-QRW8aU1ZA"
      },
      "outputs": [],
      "source": [
        "# dropping columns with low standard deviations\n",
        "to_be_dropped=[]\n",
        "train_feats = all_data.columns.difference(['claim_id', 'loss_date', 'target','claim_number']).tolist()\n",
        "for col in train_feats:\n",
        "  if all_data[col].std()<0.1:\n",
        "    to_be_dropped.append(col)"
      ]
    },
    {
      "cell_type": "code",
      "execution_count": 9,
      "metadata": {
        "id": "iBCAMK0PVkPO"
      },
      "outputs": [],
      "source": [
        "all_data.drop(to_be_dropped,axis=1,inplace=True)\n",
        "#filling missing data with -999\n",
        "all_data.fillna(-999,inplace=True)"
      ]
    },
    {
      "cell_type": "code",
      "execution_count": 10,
      "metadata": {
        "id": "gdlTsMModNXy"
      },
      "outputs": [],
      "source": [
        "#selecting my train features\n",
        "train_feats = all_data.columns.difference(['claim_id', 'loss_date', 'target','claim_number','source']).tolist()\n",
        "#splitting my data back into train and test \n",
        "train_df=all_data.loc[all_data['source']==0]\n",
        "test_df=all_data.loc[all_data['source']==1]\n",
        "test_df=test_df[train_feats]"
      ]
    },
    {
      "cell_type": "code",
      "execution_count": 11,
      "metadata": {
        "id": "e3cCJUM2s4Q5"
      },
      "outputs": [],
      "source": [
        "# Select main columns to be used in training\n",
        "X = train_df[train_feats]\n",
        "y = train_df.target\n",
        "# Split data into train and test sets\n",
        "X_train, X_test, y_train, y_test = train_test_split(X,y,test_size=0.3, random_state=0)"
      ]
    },
    {
      "cell_type": "markdown",
      "metadata": {},
      "source": [
        "<a name=\"CrossValidation\"></a>\n",
        "## 4.  Cross validation "
      ]
    },
    {
      "cell_type": "code",
      "execution_count": 12,
      "metadata": {
        "id": "UDmRlyxfwLF7"
      },
      "outputs": [],
      "source": [
        "# my cross validation function\n",
        "from sklearn.model_selection import KFold,GroupKFold\n",
        "metric=mean_absolute_error\n",
        "def cv(model,n_splits=5):\n",
        "    test_preds=np.zeros([test_df.shape[0],n_splits])\n",
        "    error=np.zeros(n_splits)\n",
        "    kf=KFold(n_splits=n_splits,shuffle=True,random_state=12)\n",
        "    oof_val_preds=np.zeros(X.shape[0])\n",
        "    for index,(train_indices,test_indices) in enumerate(kf.split(X,y)):\n",
        "        train_x,test_x=X.values[train_indices],X.values[test_indices]\n",
        "        train_y,test_y=y.iloc[train_indices],y.iloc[test_indices]\n",
        "        model.fit(train_x,train_y)\n",
        "        score=metric(test_y,model.predict(test_x))\n",
        "        error[index]=score\n",
        "        oof_val_preds[test_indices]=model.predict(test_x)\n",
        "        print(str(index+1)+'fold :'+str(score))\n",
        "        print(str(index+1)+'average_fold :'+str(np.mean(error[:index+1])))\n",
        "        test_preds[:,index]=model.predict(test_df)\n",
        "    predictions=np.mean(test_preds,axis=1)\n",
        "    print('oof_score :  '+str(metric(y,oof_val_preds)))\n",
        "    return predictions"
      ]
    },
    {
      "cell_type": "markdown",
      "metadata": {},
      "source": [
        "<a name=\"Modelling\"></a>\n",
        "## 5.  Modelling"
      ]
    },
    {
      "cell_type": "code",
      "execution_count": 13,
      "metadata": {
        "colab": {
          "base_uri": "https://localhost:8080/",
          "height": 1000
        },
        "id": "mspbmqXqYwtI",
        "outputId": "85e00bf9-86a4-4832-f7f1-86fd31b6da57"
      },
      "outputs": [
        {
          "name": "stdout",
          "output_type": "stream",
          "text": [
            "1fold :32804.88222118231\n",
            "1average_fold :32804.88222118231\n",
            "2fold :31581.77449265084\n",
            "2average_fold :32193.328356916576\n",
            "3fold :39344.767291681805\n",
            "3average_fold :34577.141335171655\n",
            "4fold :35917.20620992742\n",
            "4average_fold :34912.1575538606\n",
            "5fold :40439.9914099728\n",
            "5average_fold :36017.724325083036\n",
            "oof_score :  36017.381658476384\n"
          ]
        }
      ],
      "source": [
        "from xgboost import XGBRegressor\n",
        "xgb=XGBRegressor(n_estimators=300,max_depth=3,random_state=12,\n",
        "                 learning_rate=0.08,colsample_bytree=0.8,subsample=0.8)\n",
        "xgb_preds=cv(xgb)"
      ]
    },
    {
      "cell_type": "code",
      "execution_count": 14,
      "metadata": {
        "colab": {
          "base_uri": "https://localhost:8080/",
          "height": 1000
        },
        "id": "IPhO8ZGFo1v4",
        "outputId": "019eae4c-3c9a-4356-f7af-cbed19a1a1de"
      },
      "outputs": [
        {
          "name": "stdout",
          "output_type": "stream",
          "text": [
            "0:\tlearn: 41560.3072617\ttotal: 89ms\tremaining: 57.8s\n",
            "200:\tlearn: 30972.9730829\ttotal: 823ms\tremaining: 1.84s\n",
            "400:\tlearn: 28298.7821963\ttotal: 1.5s\tremaining: 930ms\n",
            "600:\tlearn: 27632.4601833\ttotal: 2.3s\tremaining: 187ms\n",
            "649:\tlearn: 27545.3269995\ttotal: 2.45s\tremaining: 0us\n",
            "1fold :27543.29831117191\n",
            "1average_fold :27543.29831117191\n",
            "0:\tlearn: 42588.6884071\ttotal: 9.37ms\tremaining: 6.08s\n",
            "200:\tlearn: 31214.8770063\ttotal: 741ms\tremaining: 1.66s\n",
            "400:\tlearn: 29206.0403945\ttotal: 1.41s\tremaining: 877ms\n",
            "600:\tlearn: 28625.1906629\ttotal: 2.19s\tremaining: 179ms\n",
            "649:\tlearn: 28583.3124837\ttotal: 2.34s\tremaining: 0us\n",
            "2fold :23483.30051791994\n",
            "2average_fold :25513.299414545923\n",
            "0:\tlearn: 39308.9529647\ttotal: 9.08ms\tremaining: 5.89s\n",
            "200:\tlearn: 29365.1063138\ttotal: 721ms\tremaining: 1.61s\n",
            "400:\tlearn: 26990.7928336\ttotal: 1.49s\tremaining: 926ms\n",
            "600:\tlearn: 26437.8380619\ttotal: 2.13s\tremaining: 173ms\n",
            "649:\tlearn: 26367.6222036\ttotal: 2.27s\tremaining: 0us\n",
            "3fold :32554.079854610805\n",
            "3average_fold :27860.226227900886\n",
            "0:\tlearn: 40728.8313027\ttotal: 10.9ms\tremaining: 7.08s\n",
            "200:\tlearn: 29629.5015241\ttotal: 669ms\tremaining: 1.49s\n",
            "400:\tlearn: 27744.4434617\ttotal: 1.54s\tremaining: 957ms\n",
            "600:\tlearn: 27169.8845183\ttotal: 2.21s\tremaining: 181ms\n",
            "649:\tlearn: 27110.4700626\ttotal: 2.36s\tremaining: 0us\n",
            "4fold :29394.539231210765\n",
            "4average_fold :28243.804478728358\n",
            "0:\tlearn: 39103.2793868\ttotal: 9.38ms\tremaining: 6.09s\n",
            "200:\tlearn: 28966.3571421\ttotal: 659ms\tremaining: 1.47s\n",
            "400:\tlearn: 26837.2017394\ttotal: 1.23s\tremaining: 764ms\n",
            "600:\tlearn: 26195.8508409\ttotal: 1.81s\tremaining: 148ms\n",
            "649:\tlearn: 26063.1040411\ttotal: 1.96s\tremaining: 0us\n",
            "5fold :34333.33959475836\n",
            "5average_fold :29461.711501934355\n",
            "oof_score :  29461.50689301896\n"
          ]
        }
      ],
      "source": [
        "from catboost import CatBoostRegressor\n",
        "cat= CatBoostRegressor( loss_function= 'MAE',\n",
        "learning_rate= 0.08,\n",
        "iterations= 650,                       \n",
        "depth= 3,\n",
        "subsample=0.8,\n",
        "bootstrap_type= 'Bernoulli',\n",
        "colsample_bylevel=0.8,\n",
        "random_seed= 42,\n",
        "verbose= 200 )\n",
        "cat_preds=cv(cat)"
      ]
    },
    {
      "cell_type": "markdown",
      "metadata": {
        "id": "7UuShmECwAbL"
      },
      "source": [
        "<a name=\"Predictions\"></a>\n",
        "## 6. Making predictions of the test set and creating a submission file"
      ]
    },
    {
      "cell_type": "code",
      "execution_count": 15,
      "metadata": {
        "id": "xJo1lD5cs4MM"
      },
      "outputs": [],
      "source": [
        "# emsembling our models with weighted voting \n",
        "predictions = np.array(cat_preds)*0.6+np.array(xgb_preds)*0.4\n",
        "# # Create a submission file\n",
        "sub_file = samplesubmission.copy()\n",
        "#clipping the predictions to remove outliers in our predictions\n",
        "sub_file.target = np.clip(predictions,0,10000000)\n",
        "#generating our submission file\n",
        "sub_file.to_csv(\"ZimnatInsurance.csv\", index = False)"
      ]
    },
    {
      "cell_type": "markdown",
      "metadata": {
        "id": "QKXXj1Yh4-ZK"
      },
      "source": [
        "<a name=\"mistakes\"></a>\n",
        "## 7. What I didn't do ##\n",
        " - Use more data - policies data\n",
        " - Thorough EDA and domain knowledge sourcing\n",
        " - trust my local validation other than the public leaderboard\n",
        " - division of labour amongst my teammates\n"
      ]
    },
    {
      "cell_type": "markdown",
      "metadata": {},
      "source": [
        "<a name=\"hinder\"></a>\n",
        "## 8. What hindered me  ##\n",
        " - erratic power supply\n",
        " - erratic power supply\n",
        " - poor internet connectivity"
      ]
    },
    {
      "cell_type": "markdown",
      "metadata": {},
      "source": [
        "### Thanks for you time, you can contact me if you have any questions or suggestions"
      ]
    }
  ],
  "metadata": {
    "colab": {
      "collapsed_sections": [],
      "name": "Zimnat_starternotebook.ipynb",
      "provenance": []
    },
    "kernelspec": {
      "display_name": "Python 3",
      "name": "python3"
    },
    "language_info": {
      "codemirror_mode": {
        "name": "ipython",
        "version": 3
      },
      "file_extension": ".py",
      "mimetype": "text/x-python",
      "name": "python",
      "nbconvert_exporter": "python",
      "pygments_lexer": "ipython3",
      "version": "3.8.3"
    }
  },
  "nbformat": 4,
  "nbformat_minor": 0
}
